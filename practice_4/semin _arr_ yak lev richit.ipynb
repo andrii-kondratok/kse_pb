{
  "nbformat": 4,
  "nbformat_minor": 0,
  "metadata": {
    "colab": {
      "provenance": []
    },
    "kernelspec": {
      "name": "python3",
      "display_name": "Python 3"
    },
    "language_info": {
      "name": "python"
    }
  },
  "cells": [
    {
      "cell_type": "markdown",
      "source": [
        "### Завдання 1\n",
        "Написати функцію calculate_vat(price), яка обчислює ПДВ (20%) від ціни товару.\n",
        "\n"
      ],
      "metadata": {
        "id": "zYhcyly2fqd2"
      }
    },
    {
      "cell_type": "code",
      "source": [
        "def calculate_vat(price):\n",
        "  return price*0.2\n",
        "calculate_vat(500)"
      ],
      "metadata": {
        "colab": {
          "base_uri": "https://localhost:8080/"
        },
        "id": "Q1r5ylM3Xk8j",
        "outputId": "02f82201-2cad-4358-a902-12dc2a239a45"
      },
      "execution_count": 2,
      "outputs": [
        {
          "output_type": "execute_result",
          "data": {
            "text/plain": [
              "100.0"
            ]
          },
          "metadata": {},
          "execution_count": 2
        }
      ]
    },
    {
      "cell_type": "markdown",
      "source": [
        "### Завдання 2\n",
        "Створити функцію usd_to_uah(amount), яка конвертує долари в гривні за курсом 39.5 грн/дол."
      ],
      "metadata": {
        "id": "s7VKHenxfwcc"
      }
    },
    {
      "cell_type": "code",
      "source": [
        "def usd_to_uah(amount):\n",
        "  return amount*39.5\n",
        "usd_to_uah(120)"
      ],
      "metadata": {
        "colab": {
          "base_uri": "https://localhost:8080/"
        },
        "id": "0NNO_IKDX1Lv",
        "outputId": "7117e951-cfd4-462b-d241-299a755477c7"
      },
      "execution_count": 3,
      "outputs": [
        {
          "output_type": "execute_result",
          "data": {
            "text/plain": [
              "4740.0"
            ]
          },
          "metadata": {},
          "execution_count": 3
        }
      ]
    },
    {
      "cell_type": "markdown",
      "source": [
        "### Завдання 3\n",
        "Написати функцію monthly_salary(hours, rate) — вона рахує зарплату як добуток годин і ставки."
      ],
      "metadata": {
        "id": "Vtv2nJK_fw_G"
      }
    },
    {
      "cell_type": "code",
      "source": [
        "def monthly_salary(hours, rate):\n",
        "  return hours*rate\n",
        "\n",
        "monthly_salary(12, 1000)"
      ],
      "metadata": {
        "colab": {
          "base_uri": "https://localhost:8080/"
        },
        "id": "IriQsTS7YDTE",
        "outputId": "c9b50baa-0bc3-447b-8793-e41d70585982"
      },
      "execution_count": 4,
      "outputs": [
        {
          "output_type": "execute_result",
          "data": {
            "text/plain": [
              "12000"
            ]
          },
          "metadata": {},
          "execution_count": 4
        }
      ]
    },
    {
      "cell_type": "markdown",
      "source": [
        "### Завдання 4\n",
        "Створити функцію apply_discount(price, discount) для розрахунку нової ціни після знижки у відсотках."
      ],
      "metadata": {
        "id": "Jd2UUPsYf0_l"
      }
    },
    {
      "cell_type": "code",
      "source": [
        "def apply_discount(price, discount):\n",
        "  return price-(price*(discount/100))\n",
        "apply_discount(120, 10)"
      ],
      "metadata": {
        "colab": {
          "base_uri": "https://localhost:8080/"
        },
        "id": "7GlpLK3HYN1g",
        "outputId": "a1c35354-a407-4d70-9d44-546d14708f3a"
      },
      "execution_count": 6,
      "outputs": [
        {
          "output_type": "execute_result",
          "data": {
            "text/plain": [
              "108.0"
            ]
          },
          "metadata": {},
          "execution_count": 6
        }
      ]
    },
    {
      "cell_type": "markdown",
      "source": [
        "### Завдання 5\n",
        "Написати функцію profit(revenue, cost, tax), яка повертає прибуток компанії після оподаткування."
      ],
      "metadata": {
        "id": "nnecZ8dSf0_n"
      }
    },
    {
      "cell_type": "code",
      "source": [
        "def profit(revenue, cost, tax):\n",
        "  if revenue-cost>0:\n",
        "      return (revenue-cost)-(revenue-cost)*(tax/100)\n",
        "  else:\n",
        "    return \"Шкода, але ви лохі, не навчаєтесь на БЕ\"\n",
        "profit(1200, 1000, 20)"
      ],
      "metadata": {
        "colab": {
          "base_uri": "https://localhost:8080/"
        },
        "id": "LMhdQoOXYiX0",
        "outputId": "cf259661-fe82-4443-d90f-7eb9edbed8a6"
      },
      "execution_count": 7,
      "outputs": [
        {
          "output_type": "execute_result",
          "data": {
            "text/plain": [
              "160.0"
            ]
          },
          "metadata": {},
          "execution_count": 7
        }
      ]
    },
    {
      "cell_type": "markdown",
      "source": [
        "### Завдання 6\n",
        "Написати функцію weighted_average_price(prices, quantities), яка розраховує середню зважену ціну товару.\n",
        "\n",
        "\n",
        "```\n",
        "prices — список цін за одиницю товару\n",
        "quantities — список відповідних кількостей (скільки одиниць товару купили за кожною ціною)\n",
        "```\n",
        "\n"
      ],
      "metadata": {
        "id": "B6S7Iljff0_n"
      }
    },
    {
      "cell_type": "code",
      "source": [
        "prices1 = [12, 20, 10]\n",
        "quantities1 = [100, 200, 300]\n",
        "def weighted_average_price(prices, quantities):\n",
        "  suma = 0\n",
        "  for i in range(len(prices)):\n",
        "    suma = suma + prices[i]*quantities[i]\n",
        "  return suma/sum(quantities)\n",
        "weighted_average_price(prices1, quantities1)"
      ],
      "metadata": {
        "colab": {
          "base_uri": "https://localhost:8080/"
        },
        "id": "nxKjmGUbZH4R",
        "outputId": "b0d09c49-34ef-4201-ed4c-6a91483eeaf7"
      },
      "execution_count": 9,
      "outputs": [
        {
          "output_type": "execute_result",
          "data": {
            "text/plain": [
              "13.666666666666666"
            ]
          },
          "metadata": {},
          "execution_count": 9
        }
      ]
    },
    {
      "cell_type": "markdown",
      "source": [
        "### Завдання 7\n",
        "Написати функцію calculate_wacc(equity, debt, cost_of_equity, cost_of_debt, tax_rate), яка обчислює середньозважену вартість капіталу (WACC) за формулою:\n",
        "\n",
        "$$\n",
        "\\text{WACC} = \\frac{E}{E + D} \\cdot R_e + \\frac{D}{E + D} \\cdot R_d \\cdot (1 - T)\n",
        "$$\n",
        "\n",
        "де:\n",
        "\n",
        "E — сума власного капіталу (equity),\n",
        "\n",
        "D — сума боргу (debt),\n",
        "\n",
        "Re — вартість власного капіталу (cost_of_equity),\n",
        "\n",
        "Rd — вартість боргу (cost_of_debt),\n",
        "\n",
        "T — податкова ставка (tax_rate)"
      ],
      "metadata": {
        "id": "1TSUh3wbf1LU"
      }
    },
    {
      "cell_type": "code",
      "source": [
        "def calculate_wacc(equity, debt, cost_of_equity, cost_of_debt, tax_rate):\n",
        "  return (equity/(equity+debt))*cost_of_equity + (debt/(debt+equity))*cost_of_debt*(1-tax_rate)\n",
        "calculate_wacc(124123, 12321, 12, 20, 0.2)"
      ],
      "metadata": {
        "colab": {
          "base_uri": "https://localhost:8080/"
        },
        "id": "ouo4jENdavJm",
        "outputId": "845dd09a-e3c1-4aee-8f95-0d4a548fa065"
      },
      "execution_count": 10,
      "outputs": [
        {
          "output_type": "execute_result",
          "data": {
            "text/plain": [
              "12.361203130954824"
            ]
          },
          "metadata": {},
          "execution_count": 10
        }
      ]
    },
    {
      "cell_type": "markdown",
      "source": [
        "### Завдання 8\n",
        "Створи функцію monthly_payment(present_value, rate, months), яка рахує щомісячний платіж за формулою ануїтету."
      ],
      "metadata": {
        "id": "Iex3PNbdf1LU"
      }
    },
    {
      "cell_type": "code",
      "source": [
        "def monthly_payment(present_value, rate, months):\n",
        "  return present_value*((rate*(1+rate)**months)/((1+rate)**months - 1))\n",
        "monthly_payment(40000, 0.05, 12)"
      ],
      "metadata": {
        "colab": {
          "base_uri": "https://localhost:8080/"
        },
        "id": "-MAR4RDGbUYC",
        "outputId": "44c83d93-a626-4680-9218-a043e055b632"
      },
      "execution_count": 14,
      "outputs": [
        {
          "output_type": "execute_result",
          "data": {
            "text/plain": [
              "4513.016400832614"
            ]
          },
          "metadata": {},
          "execution_count": 14
        }
      ]
    },
    {
      "cell_type": "markdown",
      "source": [
        "### Завдання 9\n",
        "Написати функцію analyze_prices(prices), яка приймає список цін і повертає словник з такими даними:\n",
        "\n",
        "\n",
        "\n",
        "*   мінімальна ціна\n",
        "*   максимальна ціна\n",
        "*   середнє значення\n",
        "*   кількість товарів дешевших за середнє\n",
        "\n",
        "\n",
        "\n",
        "\n",
        "\n",
        "\n",
        "\n"
      ],
      "metadata": {
        "id": "MCMKjHAdf1LV"
      }
    },
    {
      "cell_type": "code",
      "source": [
        "prices2 = [12, 100, 50, 20]\n",
        "def analyze_prices(prices):\n",
        "  a = min(prices)\n",
        "  b = max(prices)\n",
        "  c = sum(prices)/len(prices)\n",
        "  d = 0\n",
        "  for i in prices:\n",
        "    if i<c:\n",
        "      d+=1\n",
        "  dick = {\"мінімальна ціна\": a,\n",
        "          \"максимальна ціна\": b,\n",
        "          \"середнє значення\": c,\n",
        "          \"кількість товарів дешевших за середнє\": d}\n",
        "  return dick\n",
        "analyze_prices(prices2)"
      ],
      "metadata": {
        "colab": {
          "base_uri": "https://localhost:8080/"
        },
        "id": "lGuZPTr1dRaa",
        "outputId": "ba35e355-512c-4365-d6b5-5e40dacab0d1"
      },
      "execution_count": 16,
      "outputs": [
        {
          "output_type": "execute_result",
          "data": {
            "text/plain": [
              "{'мінімальна ціна': 12,\n",
              " 'максимальна ціна': 100,\n",
              " 'середнє значення': 45.5,\n",
              " 'кількість товарів дешевших за середнє': 2}"
            ]
          },
          "metadata": {},
          "execution_count": 16
        }
      ]
    },
    {
      "cell_type": "markdown",
      "source": [
        "### Бонусна завдання (1 бал):\n",
        "Написати функцію adjust_for_inflation(income, inflation_rates), яка коригує дохід по роках з урахуванням інфляції.\n",
        "\n",
        "Вхідні параметри:\n",
        "*   income — дохід у базовому році (наприклад, 2020)\n",
        "*   inflation_rates — список річних темпів інфляції у вигляді десяткових дробів (наприклад, [0.08, 0.1, 0.07] — це 8%, 10%, 7% для 2021–2023 років)\n",
        "\n",
        "Очікуваний результат:\n",
        "```\n",
        "adjust_for_inflation(10000, [0.08, 0.1, 0.07])\n",
        "# список - [10800.0, 11880.0, 12714.6]\n",
        "```\n",
        "\n",
        "\n",
        "\n",
        "\n",
        "\n",
        "\n"
      ],
      "metadata": {
        "id": "zWNOM0DqiTiC"
      }
    },
    {
      "cell_type": "code",
      "source": [
        "def adjust_for_inflation(income, inflation_rates):\n",
        "  lst2 = []\n",
        "  for i in inflation_rates:\n",
        "    income = income + income*i\n",
        "    lst2.append(income)\n",
        "  return lst2\n",
        "adjust_for_inflation(10000, [0.08, 0.1, 0.07])"
      ],
      "metadata": {
        "colab": {
          "base_uri": "https://localhost:8080/"
        },
        "id": "RHWEeHUFesVs",
        "outputId": "9faacfb2-0e04-4bbb-e28c-b407d4ce03f7"
      },
      "execution_count": 19,
      "outputs": [
        {
          "output_type": "execute_result",
          "data": {
            "text/plain": [
              "[10800.0, 11880.0, 12711.6]"
            ]
          },
          "metadata": {},
          "execution_count": 19
        }
      ]
    }
  ]
}