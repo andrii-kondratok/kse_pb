{
  "cells": [
    {
      "cell_type": "code",
      "execution_count": null,
      "metadata": {
        "colab": {
          "base_uri": "https://localhost:8080/"
        },
        "id": "n5-TY6LIUOcn",
        "outputId": "4e50f371-5179-44f0-9c44-f533705c648d"
      },
      "outputs": [
        {
          "name": "stdout",
          "output_type": "stream",
          "text": [
            "Ayo twin, введи число 4\n",
            "Парне, twin🥀\n"
          ]
        }
      ],
      "source": [
        "a = int(input(\"Ayo twin, введи число \"))\n",
        "if a%2==0:\n",
        "  print(\"Парне, twin🥀\")"
      ]
    },
    {
      "cell_type": "markdown",
      "metadata": {
        "id": "m2HahP3eUlqV"
      },
      "source": [
        "Завдання 1"
      ]
    },
    {
      "cell_type": "code",
      "execution_count": null,
      "metadata": {
        "id": "q51577vbUm8_"
      },
      "outputs": [],
      "source": [
        "bal = int(input(\"Little bro, введи свій GPA (цілим числом) \"))\n",
        "if bal>=90:\n",
        "  print(\"Відмінник\")\n",
        "elif bal>=75:\n",
        "  print(\"Молодець\")\n",
        "else:\n",
        "  print(\"Старайся більше\")"
      ]
    },
    {
      "cell_type": "markdown",
      "metadata": {
        "id": "Otg1jxIYVrai"
      },
      "source": [
        "Завдання 2"
      ]
    },
    {
      "cell_type": "code",
      "execution_count": 4,
      "metadata": {
        "colab": {
          "base_uri": "https://localhost:8080/"
        },
        "id": "h1efUz-iVtGA",
        "outputId": "47ca8e9b-379f-446e-89da-a98144401d28"
      },
      "outputs": [
        {
          "name": "stdout",
          "output_type": "stream",
          "text": [
            "Ціна без ПДВ: 10 грн  → з ПДВ:12.0 грн\n",
            "Ціна без ПДВ: 15 грн  → з ПДВ:18.0 грн\n",
            "Ціна без ПДВ: 20 грн  → з ПДВ:24.0 грн\n",
            "Ціна без ПДВ: 25 грн  → з ПДВ:30.0 грн\n",
            "Ціна без ПДВ: 30 грн  → з ПДВ:36.0 грн\n",
            "Ціна без ПДВ: 35 грн  → з ПДВ:42.0 грн\n",
            "Ціна без ПДВ: 40 грн  → з ПДВ:48.0 грн\n",
            "Ціна без ПДВ: 45 грн  → з ПДВ:54.0 грн\n",
            "Ціна без ПДВ: 50 грн  → з ПДВ:60.0 грн\n",
            "Ціна без ПДВ: 55 грн  → з ПДВ:66.0 грн\n",
            "Ціна без ПДВ: 60 грн  → з ПДВ:72.0 грн\n",
            "Ціна без ПДВ: 65 грн  → з ПДВ:78.0 грн\n",
            "Ціна без ПДВ: 70 грн  → з ПДВ:84.0 грн\n",
            "Ціна без ПДВ: 75 грн  → з ПДВ:90.0 грн\n",
            "Ціна без ПДВ: 80 грн  → з ПДВ:96.0 грн\n",
            "Ціна без ПДВ: 85 грн  → з ПДВ:102.0 грн\n",
            "Ціна без ПДВ: 90 грн  → з ПДВ:108.0 грн\n",
            "Ціна без ПДВ: 95 грн  → з ПДВ:114.0 грн\n",
            "Ціна без ПДВ: 100 грн  → з ПДВ:120.0 грн\n"
          ]
        }
      ],
      "source": [
        "for i in range(10,101,5):\n",
        "  print(f\"Ціна без ПДВ: {i} грн  → з ПДВ:{i*1.2} грн\")"
      ]
    },
    {
      "cell_type": "markdown",
      "metadata": {
        "id": "8oXPFOalWNA6"
      },
      "source": [
        "Завдання 3"
      ]
    },
    {
      "cell_type": "code",
      "execution_count": 8,
      "metadata": {
        "colab": {
          "base_uri": "https://localhost:8080/"
        },
        "id": "dBR_q5wNWOMZ",
        "outputId": "c9da94db-6d5a-4e10-a3db-2c8e16052948"
      },
      "outputs": [
        {
          "name": "stdout",
          "output_type": "stream",
          "text": [
            "Введіть число під номером 1: 233\n",
            "Введіть число під номером 2: 543\n",
            "Введіть число під номером 3: 978685453437\n",
            "978685453437\n"
          ]
        }
      ],
      "source": [
        "lst = []\n",
        "for i in range(3):\n",
        "  k = int(input(f\"Введіть число під номером {i+1}: \"))\n",
        "  lst.append(k)\n",
        "lst.sort(reverse=True)\n",
        "print(lst[0])"
      ]
    },
    {
      "cell_type": "markdown",
      "metadata": {
        "id": "Nhug2G3VW6JK"
      },
      "source": [
        "Завдання 4"
      ]
    },
    {
      "cell_type": "code",
      "execution_count": 12,
      "metadata": {
        "colab": {
          "base_uri": "https://localhost:8080/"
        },
        "id": "_DCV6vZtW73b",
        "outputId": "2a43e86f-afaa-4c65-f808-0393d02e1b54"
      },
      "outputs": [
        {
          "name": "stdout",
          "output_type": "stream",
          "text": [
            "Номер місяцю: 1, вже накопичено: 1300\n",
            "Номер місяцю: 2, вже накопичено: 1600\n",
            "Номер місяцю: 3, вже накопичено: 1900\n",
            "Номер місяцю: 4, вже накопичено: 2200\n",
            "Номер місяцю: 5, вже накопичено: 2500\n",
            "Номер місяцю: 6, вже накопичено: 2800\n",
            "Номер місяцю: 7, вже накопичено: 3100\n",
            "Номер місяцю: 8, вже накопичено: 3400\n",
            "Номер місяцю: 9, вже накопичено: 3700\n",
            "Номер місяцю: 10, вже накопичено: 4000\n",
            "Номер місяцю: 11, вже накопичено: 4300\n",
            "Номер місяцю: 12, вже накопичено: 4600\n",
            "Номер місяцю: 13, вже накопичено: 4900\n",
            "Номер місяцю: 14, вже накопичено: 5200\n",
            "Отже потрібно 14 місяців\n"
          ]
        }
      ],
      "source": [
        "i = 0\n",
        "cur = 1000\n",
        "while True:\n",
        "  i+=1\n",
        "  cur+=300\n",
        "  print(f\"Номер місяцю: {i}, вже накопичено: {cur}\")\n",
        "  if cur >= 5000:\n",
        "    break\n",
        "print(f\"Отже потрібно {i} місяців\")"
      ]
    },
    {
      "cell_type": "markdown",
      "metadata": {
        "id": "1n-pD51aX6G3"
      },
      "source": [
        "Завдання 5"
      ]
    },
    {
      "cell_type": "code",
      "execution_count": 14,
      "metadata": {
        "colab": {
          "base_uri": "https://localhost:8080/"
        },
        "id": "y3Oc6QrFX7Ae",
        "outputId": "9c5c9b77-5478-4c39-a59f-8e452da7f085"
      },
      "outputs": [
        {
          "name": "stdout",
          "output_type": "stream",
          "text": [
            "З Новим роком вас вітаю, щастя радості бажаю. З роком свині вас! Введіть свій рік: 2021\n",
            "Нормісний рік\n"
          ]
        }
      ],
      "source": [
        "rik = int(input(\"З Новим роком вас вітаю, щастя радості бажаю. З роком свині вас! Введіть свій рік: \"))\n",
        "if rik%4==0 and rik%100!=0 or rik%400==0:\n",
        "  print(\"Високосний рік\")\n",
        "else:\n",
        "  print(\"Нормісний рік\")"
      ]
    },
    {
      "cell_type": "markdown",
      "metadata": {
        "id": "IHrFevMbYi6A"
      },
      "source": [
        "Завдання 6"
      ]
    },
    {
      "cell_type": "code",
      "execution_count": 15,
      "metadata": {
        "colab": {
          "base_uri": "https://localhost:8080/"
        },
        "id": "AZBAL5ioYk5H",
        "outputId": "b266971f-7d9e-4c1d-a03d-7c869ad25c59"
      },
      "outputs": [
        {
          "name": "stdout",
          "output_type": "stream",
          "text": [
            "1\n",
            "2\n",
            "3\n",
            "5\n",
            "6\n",
            "7\n",
            "9\n",
            "10\n",
            "11\n",
            "13\n",
            "14\n",
            "15\n",
            "17\n",
            "18\n",
            "19\n"
          ]
        }
      ],
      "source": [
        "for i in range(1,20):\n",
        "  if i%4==0:\n",
        "    continue\n",
        "  print(i)"
      ]
    },
    {
      "cell_type": "markdown",
      "metadata": {
        "id": "9-PZITL9Yy-H"
      },
      "source": [
        "Завдання 7"
      ]
    },
    {
      "cell_type": "code",
      "execution_count": 17,
      "metadata": {
        "colab": {
          "base_uri": "https://localhost:8080/"
        },
        "id": "rijSK_3eY1cz",
        "outputId": "1133b7ae-beef-48e3-9e3e-c09f7c6a4e06"
      },
      "outputs": [
        {
          "name": "stdout",
          "output_type": "stream",
          "text": [
            "Місяць під номером 1, залишок = 8976.0\n",
            "Місяць під номером 2, залишок = 7931.52\n",
            "Місяць під номером 3, залишок = 6866.1504\n",
            "Місяць під номером 4, залишок = 5779.473408000001\n",
            "Місяць під номером 5, залишок = 4671.062876160001\n",
            "Місяць під номером 6, залишок = 3540.484133683201\n",
            "Місяць під номером 7, залишок = 2387.293816356865\n",
            "Місяць під номером 8, залишок = 1211.0396926840024\n",
            "Місяць під номером 9, залишок = 11.260486537682423\n",
            "Місяць під номером 10, залишок = -1212.5143037315638\n",
            "Отже, потрібно 10 місяців\n"
          ]
        }
      ],
      "source": [
        "zal = 10000\n",
        "plachu = 1200\n",
        "i = 0\n",
        "while True:\n",
        "  if zal <= 0:\n",
        "    break\n",
        "  i += 1\n",
        "  zal = (zal-plachu)*1.02\n",
        "  print(f\"Місяць під номером {i}, залишок = {zal}\")\n",
        "print(f\"Отже, потрібно {i} місяців\")"
      ]
    },
    {
      "cell_type": "markdown",
      "metadata": {
        "id": "Ey-eAG7eaENN"
      },
      "source": [
        "Завдання 8"
      ]
    },
    {
      "cell_type": "code",
      "execution_count": 2,
      "metadata": {
        "colab": {
          "base_uri": "https://localhost:8080/"
        },
        "id": "4Jao7MkkaFzL",
        "outputId": "93c34fab-6d2a-43c9-d5d1-6fe98b030dbb"
      },
      "outputs": [
        {
          "name": "stdout",
          "output_type": "stream",
          "text": [
            "Ваш дохід збережено: 670.0\n",
            "Ваш дохід збережено: 1540.0\n",
            "Дохід не може бути від'ємним\n"
          ]
        }
      ],
      "source": [
        "zag_dohid = 0\n",
        "while True:\n",
        "  a = float(input(\"Введіть ваш дохід або 0 для виходу: \"))\n",
        "  if a == 0.0:\n",
        "    break\n",
        "  elif a<0:\n",
        "    print(\"Дохід не може бути від'ємним\")\n",
        "    continue\n",
        "  else:\n",
        "    zag_dohid = zag_dohid+a\n",
        "    print(f\"Ваш дохід збережено: {zag_dohid}\")"
      ]
    },
    {
      "cell_type": "markdown",
      "metadata": {
        "id": "m94iVtb1bTdg"
      },
      "source": [
        "Бонусне"
      ]
    }
  ],
  "metadata": {
    "colab": {
      "provenance": []
    },
    "kernelspec": {
      "display_name": "base",
      "language": "python",
      "name": "python3"
    },
    "language_info": {
      "codemirror_mode": {
        "name": "ipython",
        "version": 3
      },
      "file_extension": ".py",
      "mimetype": "text/x-python",
      "name": "python",
      "nbconvert_exporter": "python",
      "pygments_lexer": "ipython3",
      "version": "3.12.7"
    }
  },
  "nbformat": 4,
  "nbformat_minor": 0
}
