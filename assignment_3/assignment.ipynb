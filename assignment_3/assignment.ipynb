{
 "cells": [
  {
   "cell_type": "markdown",
   "id": "889c7db4",
   "metadata": {},
   "source": [
    "Сума чисел: обчисліть суму чисел у списку.\n"
   ]
  },
  {
   "cell_type": "code",
   "execution_count": 1,
   "id": "be4659af",
   "metadata": {},
   "outputs": [
    {
     "name": "stdout",
     "output_type": "stream",
     "text": [
      "55\n"
     ]
    }
   ],
   "source": [
    "lst = [1,2,3,4,5,6,7,8,9,10]\n",
    "print(sum(lst))"
   ]
  },
  {
   "cell_type": "markdown",
   "id": "064be63a",
   "metadata": {},
   "source": [
    "Знайти мінімум: Визначити найменше число в списку"
   ]
  },
  {
   "cell_type": "code",
   "execution_count": 2,
   "id": "a9d123d7",
   "metadata": {},
   "outputs": [
    {
     "name": "stdout",
     "output_type": "stream",
     "text": [
      "1\n"
     ]
    }
   ],
   "source": [
    "print(min(lst))"
   ]
  },
  {
   "cell_type": "markdown",
   "id": "c250cb25",
   "metadata": {},
   "source": [
    "Перевертання списку: перевертання елементів у списку"
   ]
  },
  {
   "cell_type": "code",
   "execution_count": null,
   "id": "8b239f0b",
   "metadata": {},
   "outputs": [
    {
     "name": "stdout",
     "output_type": "stream",
     "text": [
      "[10, 9, 8, 7, 6, 5, 4, 3, 2, 1]\n"
     ]
    }
   ],
   "source": [
    "print(lst[::-1])"
   ]
  },
  {
   "cell_type": "markdown",
   "id": "12e4fa25",
   "metadata": {},
   "source": [
    "Друкувати непарні числа: відобразити всі непарні числа зі списку"
   ]
  },
  {
   "cell_type": "code",
   "execution_count": 5,
   "id": "47023377",
   "metadata": {},
   "outputs": [
    {
     "name": "stdout",
     "output_type": "stream",
     "text": [
      "[1, 3, 5, 7, 9]\n"
     ]
    }
   ],
   "source": [
    "print([i for i in lst if i % 2 != 0])"
   ]
  },
  {
   "cell_type": "markdown",
   "id": "f3210dc9",
   "metadata": {},
   "source": [
    "Помножити список: помножити кожен елемент у списку на задане число.\n"
   ]
  },
  {
   "cell_type": "code",
   "execution_count": 6,
   "id": "3a51e4e0",
   "metadata": {},
   "outputs": [
    {
     "name": "stdout",
     "output_type": "stream",
     "text": [
      "[2, 4, 6, 8, 10, 12, 14, 16, 18, 20]\n"
     ]
    }
   ],
   "source": [
    "n = int(input(\"На яке число множимо: \"))\n",
    "print([i*n for i in lst])"
   ]
  },
  {
   "cell_type": "markdown",
   "id": "ce50e7ca",
   "metadata": {},
   "source": [
    "Фільтрувати за умовою: витягувати зі списку числа, більші за X.\n"
   ]
  },
  {
   "cell_type": "code",
   "execution_count": 7,
   "id": "00757332",
   "metadata": {},
   "outputs": [
    {
     "name": "stdout",
     "output_type": "stream",
     "text": [
      "[4, 5, 6, 7, 8, 9, 10]\n"
     ]
    }
   ],
   "source": [
    "x = int(input(\"Більші за: \"))\n",
    "print([i for i in lst if i>x])"
   ]
  },
  {
   "cell_type": "markdown",
   "id": "d4cf0982",
   "metadata": {},
   "source": [
    "Середнє додатних чисел: Знайдіть середнє додатних чисел.\n"
   ]
  },
  {
   "cell_type": "code",
   "execution_count": 15,
   "id": "84de9f9d",
   "metadata": {},
   "outputs": [
    {
     "name": "stdout",
     "output_type": "stream",
     "text": [
      "5.5\n"
     ]
    }
   ],
   "source": [
    "print(sum(list((i for i in lst if i > 0)))/len(list((i for i in lst if i > 0))))"
   ]
  },
  {
   "cell_type": "markdown",
   "id": "94362d34",
   "metadata": {},
   "source": [
    "Максимум у відфільтрованому списку: знайдіть максимальну кількість\n",
    "чисел, менших за X."
   ]
  },
  {
   "cell_type": "code",
   "execution_count": 1,
   "id": "9aa22816",
   "metadata": {},
   "outputs": [
    {
     "name": "stdout",
     "output_type": "stream",
     "text": [
      "4\n",
      "4\n"
     ]
    }
   ],
   "source": [
    "lst = [1,2,3,4,5,6,7,8,9,10]\n",
    "y = int(input(\"Менші за: \"))\n",
    "print(max(list((i for i in lst if i < y))))\n",
    "print(len(list((i for i in lst if i < y))))"
   ]
  },
  {
   "cell_type": "markdown",
   "id": "adb195a3",
   "metadata": {},
   "source": [
    "Агрегована умовна сума: сума чисел, які діляться на Y"
   ]
  },
  {
   "cell_type": "code",
   "execution_count": 4,
   "id": "d593a29f",
   "metadata": {},
   "outputs": [
    {
     "name": "stdout",
     "output_type": "stream",
     "text": [
      "30\n"
     ]
    }
   ],
   "source": [
    "lst = [1,2,3,4,5,6,7,8,9,10]\n",
    "y = int(input(\"Діляться на: \"))\n",
    "print(sum(list((i for i in lst if i % y == 0))))"
   ]
  },
  {
   "cell_type": "markdown",
   "id": "00b5618b",
   "metadata": {},
   "source": [
    "Список квадратів: створіть список квадратів кожного числа.\n"
   ]
  },
  {
   "cell_type": "code",
   "execution_count": 5,
   "id": "4776a3c1",
   "metadata": {},
   "outputs": [
    {
     "name": "stdout",
     "output_type": "stream",
     "text": [
      "[1, 4, 9, 16, 25, 36, 49, 64, 81, 100]\n"
     ]
    }
   ],
   "source": [
    "print(list((i**2 for i in lst)))"
   ]
  },
  {
   "cell_type": "markdown",
   "id": "f90b37d1",
   "metadata": {},
   "source": [
    "Витяг додатних чисел: створіть новий список лише з додатними\n",
    "числами з заданого списку"
   ]
  },
  {
   "cell_type": "code",
   "execution_count": 7,
   "id": "51e312f1",
   "metadata": {},
   "outputs": [
    {
     "data": {
      "text/plain": [
       "[3, 5, 7, 9]"
      ]
     },
     "execution_count": 7,
     "metadata": {},
     "output_type": "execute_result"
    }
   ],
   "source": [
    "lst = [-1,-2,3,-4,5,-6,7,-8,9,-10]\n",
    "lst_dod = list((i for i in lst if i > 0))\n",
    "lst_dod"
   ]
  },
  {
   "cell_type": "markdown",
   "id": "e084d97a",
   "metadata": {},
   "source": [
    "Фільтрувати рядки за префіксом: знайти всі рядки в списку, які\n",
    "починаються з указаного префікса.\n"
   ]
  },
  {
   "cell_type": "code",
   "execution_count": 2,
   "id": "ef1ea394",
   "metadata": {},
   "outputs": [
    {
     "name": "stdout",
     "output_type": "stream",
     "text": [
      "['Безперспективний', 'безжальне']\n"
     ]
    }
   ],
   "source": [
    "import string\n",
    "lst = [\"Безперспективний\", \"jhhgvhghc\", \"безжальне\", \"життя\", \"rfsbhdf\"]\n",
    "print(list(i for i in lst if i.lower().__contains__(\"без\")))"
   ]
  },
  {
   "cell_type": "markdown",
   "id": "606b5ebc",
   "metadata": {},
   "source": [
    "Сума перших N чисел: обчисліть суму перших N чисел у списку"
   ]
  },
  {
   "cell_type": "code",
   "execution_count": null,
   "id": "d751f242",
   "metadata": {},
   "outputs": [
    {
     "name": "stdout",
     "output_type": "stream",
     "text": [
      "-1\n"
     ]
    }
   ],
   "source": [
    "lst = [-1,-2,3,-4,5,-6,7,-8,9,-10]\n",
    "n = int(input(\"Перших скількох \"))\n",
    "print(sum(list(lst[j] for j in range(n))))"
   ]
  },
  {
   "cell_type": "markdown",
   "id": "98d259f0",
   "metadata": {},
   "source": [
    "Знайти всі паліндроми: видобути всі паліндромні рядки зі списку"
   ]
  },
  {
   "cell_type": "code",
   "execution_count": 3,
   "id": "c4b03d5d",
   "metadata": {},
   "outputs": [
    {
     "name": "stdout",
     "output_type": "stream",
     "text": [
      "['Мадам']\n"
     ]
    }
   ],
   "source": [
    "import string\n",
    "lst = [\"Мадам\", \"dfsdfs\", \"безжальне\", \"життя\", \"sdfsdfs\"]\n",
    "print(list(i for i in lst if i.lower() == ''.join(reversed(i.lower())))) #чому reversed не повертає стрінгу, крінжжжжжжжж. Довелось фінтити конем"
   ]
  },
  {
   "cell_type": "markdown",
   "id": "9fe70d54",
   "metadata": {},
   "source": [
    "Перевірка подільності: зі списку чисел створіть новий список логічних\n",
    "значень, де кожен елемент вказує, чи ділиться відповідне число на\n",
    "даний дільник.\n"
   ]
  },
  {
   "cell_type": "code",
   "execution_count": 26,
   "id": "cc9972cd",
   "metadata": {},
   "outputs": [
    {
     "name": "stdout",
     "output_type": "stream",
     "text": [
      "[False, True, False, True, False, True, False, True, False, True]\n"
     ]
    }
   ],
   "source": [
    "lst = [1,2,3,4,5,6,7,8,9,10]\n",
    "b = 2\n",
    "print(list(i%b == 0 for i in lst))"
   ]
  },
  {
   "cell_type": "markdown",
   "id": "0b710cf4",
   "metadata": {},
   "source": [
    "Фільтрувати за кількома умовами: числа, які діляться на X, але не\n",
    "діляться на Y.\n"
   ]
  },
  {
   "cell_type": "code",
   "execution_count": 30,
   "id": "f265dfff",
   "metadata": {},
   "outputs": [
    {
     "name": "stdout",
     "output_type": "stream",
     "text": [
      "[2, 6, 10]\n"
     ]
    }
   ],
   "source": [
    "b = 2\n",
    "a = 4\n",
    "print(list(i for i in lst if (i%b == 0 and i%a != 0)))"
   ]
  },
  {
   "cell_type": "markdown",
   "id": "50cc78fc",
   "metadata": {},
   "source": [
    "Зведення вкладених списків: зведення списку списків в єдиний список."
   ]
  },
  {
   "cell_type": "code",
   "execution_count": 1,
   "id": "71a9ce6d",
   "metadata": {},
   "outputs": [
    {
     "data": {
      "text/plain": [
       "[1, 2, 3, 4, 5, 6, 7, 8, 9]"
      ]
     },
     "execution_count": 1,
     "metadata": {},
     "output_type": "execute_result"
    }
   ],
   "source": [
    "lst1 = [[1,2,3],[4,5,6],[7,8,9]]\n",
    "lst_res = []\n",
    "for i in lst1:\n",
    "    for j in i:\n",
    "        lst_res.append(j)\n",
    "lst_res"
   ]
  },
  {
   "cell_type": "markdown",
   "id": "c19fd8d2",
   "metadata": {},
   "source": [
    "Складна маніпуляція рядками: виділіть і введіть великі літери в окремих\n",
    "підрядках.\n"
   ]
  },
  {
   "cell_type": "code",
   "execution_count": 3,
   "id": "31a50c9c",
   "metadata": {},
   "outputs": [
    {
     "name": "stdout",
     "output_type": "stream",
     "text": [
      "ANJN\n"
     ]
    }
   ],
   "source": [
    "radok = \"AbjhbhbNJknhnN\"\n",
    "lst_res = []\n",
    "for i in radok:\n",
    "    if i.isupper() == True:\n",
    "        lst_res.append(i)\n",
    "print(''.join(lst_res))"
   ]
  },
  {
   "cell_type": "markdown",
   "id": "a082d674",
   "metadata": {},
   "source": [
    "Багаторівневе сортування: сортування за спаданням частоти\n"
   ]
  },
  {
   "cell_type": "code",
   "execution_count": 14,
   "id": "839c1f47",
   "metadata": {},
   "outputs": [
    {
     "data": {
      "text/plain": [
       "[2, 2, 2, 2, 4, 4, 4, -1, -1, -3, -5]"
      ]
     },
     "execution_count": 14,
     "metadata": {},
     "output_type": "execute_result"
    }
   ],
   "source": [
    "lst_rad = [-1,2,-3,4,-5,2,2,2,-1,4,4]\n",
    "sorted(lst_rad, key = lst_rad.count, reverse=True)"
   ]
  },
  {
   "cell_type": "markdown",
   "id": "b63b54f2",
   "metadata": {},
   "source": [
    "Об’єднати списки умовно: об’єднати два списки на основі умов.\n"
   ]
  },
  {
   "cell_type": "code",
   "execution_count": 4,
   "id": "d52ba689",
   "metadata": {},
   "outputs": [
    {
     "data": {
      "text/plain": [
       "[4, 1, 2]"
      ]
     },
     "execution_count": 4,
     "metadata": {},
     "output_type": "execute_result"
    }
   ],
   "source": [
    "lst_rad = [-1,2,-3,4,-5]\n",
    "lst_dod = [1,2,3,4,5]\n",
    "lst_res = [x for x in lst_rad if x > 3] + [x for x in lst_dod if x < 3]\n",
    "lst_res\n"
   ]
  },
  {
   "cell_type": "markdown",
   "id": "fd6b65d1",
   "metadata": {},
   "source": [
    "Агрегація словника: сума значень у словнику за ключем.\n"
   ]
  },
  {
   "cell_type": "code",
   "execution_count": 4,
   "id": "f2d0f92b",
   "metadata": {},
   "outputs": [
    {
     "name": "stdout",
     "output_type": "stream",
     "text": [
      "{'yuh-uh': 15, 'nuh-uh': 67}\n"
     ]
    }
   ],
   "source": [
    "slovnyk = {\"1\": {\"num\": 12, \"pdiddy\": \"1000 bottles of baby oil\", \"status\": \"yuh-uh\"}, \n",
    "           \"2\": {\"num\": 3, \"pdiddy\": \"1000 bottles of baby oil\", \"status\": \"yuh-uh\"},\n",
    "           \"3\": {\"num\": 67, \"pdiddy\": \"1000 bottles of baby oil\", \"status\": \"nuh-uh\"},}\n",
    "result = {}\n",
    "for i in slovnyk.values():\n",
    "    k = i[\"status\"]\n",
    "    if k not in result:\n",
    "        result[k] = i[\"num\"]\n",
    "    else:\n",
    "        result[k] += i[\"num\"]\n",
    "print(result)"
   ]
  },
  {
   "cell_type": "markdown",
   "id": "42812073",
   "metadata": {},
   "source": [
    "Умовна заміна елементів: заміна елементів на основі стану"
   ]
  },
  {
   "cell_type": "code",
   "execution_count": 11,
   "id": "3a82dced",
   "metadata": {},
   "outputs": [
    {
     "data": {
      "text/plain": [
       "[-1, True, -3, True, -5]"
      ]
     },
     "execution_count": 11,
     "metadata": {},
     "output_type": "execute_result"
    }
   ],
   "source": [
    "lst_rad = [-1,2,-3,4,-5]\n",
    "for i in lst_rad:\n",
    "    if i>0:\n",
    "        lst_rad[lst_rad.index(i)] = True\n",
    "lst_rad"
   ]
  },
  {
   "cell_type": "markdown",
   "id": "ee1e6901",
   "metadata": {},
   "source": [
    "Підрахувати довжину рядків: підрахувати кількість рядків довжиною\n",
    "більше X.\n"
   ]
  },
  {
   "cell_type": "code",
   "execution_count": 4,
   "id": "0a1d507f",
   "metadata": {},
   "outputs": [
    {
     "name": "stdout",
     "output_type": "stream",
     "text": [
      "2\n"
     ]
    }
   ],
   "source": [
    "rad1 = \"Латентний пєтух Едік Коваленко\"\n",
    "rad2 = \"Представляясь сотрудником Главного Управления Разведки\"\n",
    "rad3 = \"виделиваясь, рассказивает, что типо она с какой-то\"\n",
    "list_rad = [rad1,rad2,rad3]\n",
    "x = 35\n",
    "count_to_four = 0\n",
    "for rad in list_rad:\n",
    "    if len(rad)>x:\n",
    "        count_to_four += 1\n",
    "print(count_to_four)"
   ]
  },
  {
   "cell_type": "markdown",
   "id": "2dc3fc43",
   "metadata": {},
   "source": [
    "Об’єднати чергування: об’єднувати рядки по черзі з двох списків.\n"
   ]
  },
  {
   "cell_type": "code",
   "execution_count": 6,
   "id": "ac3c5c9f",
   "metadata": {},
   "outputs": [
    {
     "name": "stdout",
     "output_type": "stream",
     "text": [
      "['Мадам Латентний пєтух Едік Коваленко', 'сопляк Представляясь сотрудником Главного Управления Разведки', '4567890 виделиваясь, рассказивает, что типо она с какой-то', 'життя', 'hamburger']\n"
     ]
    }
   ],
   "source": [
    "lst = [\"Мадам\", \"сопляк\", \"4567890\", \"життя\", \"hamburger\"]\n",
    "rad1 = \"Латентний пєтух Едік Коваленко\"\n",
    "rad2 = \"Представляясь сотрудником Главного Управления Разведки\"\n",
    "rad3 = \"виделиваясь, рассказивает, что типо она с какой-то\"\n",
    "list_res = []\n",
    "list_rad = [rad1,rad2,rad3]\n",
    "for i in range(min([len(lst), len(list_rad)])):\n",
    "    list_res.append(lst[i] + \" \" + list_rad[i])\n",
    "    \n",
    "if len(list_rad)>len(lst):\n",
    "    list_res.append(list_rad[len(lst)::])\n",
    "if len(lst)>len(list_rad):\n",
    "    list_res += lst[len(list_rad)::]\n",
    "print(list_res)"
   ]
  },
  {
   "cell_type": "markdown",
   "id": "4ffaedd9",
   "metadata": {},
   "source": [
    "Помножити, якщо: помножити числа на Y, якщо вони більші за X."
   ]
  },
  {
   "cell_type": "code",
   "execution_count": 14,
   "id": "ba9e55ec",
   "metadata": {},
   "outputs": [
    {
     "data": {
      "text/plain": [
       "[1, 2, 3000, 4000, 5000]"
      ]
     },
     "execution_count": 14,
     "metadata": {},
     "output_type": "execute_result"
    }
   ],
   "source": [
    "lst_dod = [1,2,3,4,5]\n",
    "x = 2\n",
    "y = 1000\n",
    "for i in lst_dod:\n",
    "    if i>x:\n",
    "        lst_dod[lst_dod.index(i)] *= y\n",
    "lst_dod"
   ]
  }
 ],
 "metadata": {
  "kernelspec": {
   "display_name": "venv",
   "language": "python",
   "name": "python3"
  },
  "language_info": {
   "codemirror_mode": {
    "name": "ipython",
    "version": 3
   },
   "file_extension": ".py",
   "mimetype": "text/x-python",
   "name": "python",
   "nbconvert_exporter": "python",
   "pygments_lexer": "ipython3",
   "version": "3.12.7"
  }
 },
 "nbformat": 4,
 "nbformat_minor": 5
}
