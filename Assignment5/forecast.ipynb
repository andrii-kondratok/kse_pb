{
 "cells": [
  {
   "cell_type": "code",
   "execution_count": 1,
   "id": "55810830",
   "metadata": {},
   "outputs": [],
   "source": [
    "import requests\n",
    "import pandas as pd\n",
    "api_key = \"cd48970b0bea4249ac391317252106\"\n",
    "latitude = 1.3733\n",
    "longitude = 32.2903\n",
    "#ви не уточнювали, який саме брати прогноз, тому я взяв прогноз Уганди\n",
    "url = f\"http://api.weatherapi.com/v1/forecast.json?key={api_key}&q={latitude},{longitude}&days=7&aqi=no&alerts=no\"\n",
    "response = requests.get(url)\n",
    "data = response.json()\n",
    "forecast_data = data['forecast']['forecastday']\n",
    "weather_list = []\n",
    "for day in forecast_data:\n",
    "    for hour in day['hour']:\n",
    "        weather_list.append({\n",
    "            'Час': hour['time'],\n",
    "            'Температура': hour['temp_c'],\n",
    "            'Швидкість вітру': hour['wind_kph'],\n",
    "        })\n",
    "\n",
    "weather_df = pd.DataFrame(weather_list)\n",
    "weather_df['Час'] = pd.to_datetime(weather_df['Час'])"
   ]
  },
  {
   "cell_type": "code",
   "execution_count": 2,
   "id": "0ddd5b18",
   "metadata": {},
   "outputs": [
    {
     "data": {
      "text/html": [
       "<div>\n",
       "<style scoped>\n",
       "    .dataframe tbody tr th:only-of-type {\n",
       "        vertical-align: middle;\n",
       "    }\n",
       "\n",
       "    .dataframe tbody tr th {\n",
       "        vertical-align: top;\n",
       "    }\n",
       "\n",
       "    .dataframe thead th {\n",
       "        text-align: right;\n",
       "    }\n",
       "</style>\n",
       "<table border=\"1\" class=\"dataframe\">\n",
       "  <thead>\n",
       "    <tr style=\"text-align: right;\">\n",
       "      <th></th>\n",
       "      <th>Час</th>\n",
       "      <th>Температура</th>\n",
       "      <th>Швидкість вітру</th>\n",
       "    </tr>\n",
       "  </thead>\n",
       "  <tbody>\n",
       "    <tr>\n",
       "      <th>0</th>\n",
       "      <td>2025-06-22 00:00:00</td>\n",
       "      <td>19.6</td>\n",
       "      <td>1.8</td>\n",
       "    </tr>\n",
       "    <tr>\n",
       "      <th>1</th>\n",
       "      <td>2025-06-22 01:00:00</td>\n",
       "      <td>18.9</td>\n",
       "      <td>2.9</td>\n",
       "    </tr>\n",
       "    <tr>\n",
       "      <th>2</th>\n",
       "      <td>2025-06-22 02:00:00</td>\n",
       "      <td>18.3</td>\n",
       "      <td>5.0</td>\n",
       "    </tr>\n",
       "    <tr>\n",
       "      <th>3</th>\n",
       "      <td>2025-06-22 03:00:00</td>\n",
       "      <td>17.8</td>\n",
       "      <td>5.0</td>\n",
       "    </tr>\n",
       "    <tr>\n",
       "      <th>4</th>\n",
       "      <td>2025-06-22 04:00:00</td>\n",
       "      <td>17.3</td>\n",
       "      <td>4.0</td>\n",
       "    </tr>\n",
       "    <tr>\n",
       "      <th>...</th>\n",
       "      <td>...</td>\n",
       "      <td>...</td>\n",
       "      <td>...</td>\n",
       "    </tr>\n",
       "    <tr>\n",
       "      <th>163</th>\n",
       "      <td>2025-06-28 19:00:00</td>\n",
       "      <td>24.5</td>\n",
       "      <td>10.1</td>\n",
       "    </tr>\n",
       "    <tr>\n",
       "      <th>164</th>\n",
       "      <td>2025-06-28 20:00:00</td>\n",
       "      <td>23.3</td>\n",
       "      <td>10.4</td>\n",
       "    </tr>\n",
       "    <tr>\n",
       "      <th>165</th>\n",
       "      <td>2025-06-28 21:00:00</td>\n",
       "      <td>22.0</td>\n",
       "      <td>10.4</td>\n",
       "    </tr>\n",
       "    <tr>\n",
       "      <th>166</th>\n",
       "      <td>2025-06-28 22:00:00</td>\n",
       "      <td>21.5</td>\n",
       "      <td>9.0</td>\n",
       "    </tr>\n",
       "    <tr>\n",
       "      <th>167</th>\n",
       "      <td>2025-06-28 23:00:00</td>\n",
       "      <td>21.0</td>\n",
       "      <td>7.9</td>\n",
       "    </tr>\n",
       "  </tbody>\n",
       "</table>\n",
       "<p>168 rows × 3 columns</p>\n",
       "</div>"
      ],
      "text/plain": [
       "                    Час  Температура  Швидкість вітру\n",
       "0   2025-06-22 00:00:00         19.6              1.8\n",
       "1   2025-06-22 01:00:00         18.9              2.9\n",
       "2   2025-06-22 02:00:00         18.3              5.0\n",
       "3   2025-06-22 03:00:00         17.8              5.0\n",
       "4   2025-06-22 04:00:00         17.3              4.0\n",
       "..                  ...          ...              ...\n",
       "163 2025-06-28 19:00:00         24.5             10.1\n",
       "164 2025-06-28 20:00:00         23.3             10.4\n",
       "165 2025-06-28 21:00:00         22.0             10.4\n",
       "166 2025-06-28 22:00:00         21.5              9.0\n",
       "167 2025-06-28 23:00:00         21.0              7.9\n",
       "\n",
       "[168 rows x 3 columns]"
      ]
     },
     "execution_count": 2,
     "metadata": {},
     "output_type": "execute_result"
    }
   ],
   "source": [
    "weather_df"
   ]
  },
  {
   "cell_type": "code",
   "execution_count": 5,
   "id": "d4e2172e",
   "metadata": {},
   "outputs": [],
   "source": [
    "from datetime import datetime, timedelta\n",
    "next_3_days = weather_df[weather_df[\"Час\"]<pd.to_datetime(datetime.today() + timedelta(days=2))]"
   ]
  },
  {
   "cell_type": "code",
   "execution_count": 6,
   "id": "32565832",
   "metadata": {},
   "outputs": [
    {
     "data": {
      "text/html": [
       "<div>\n",
       "<style scoped>\n",
       "    .dataframe tbody tr th:only-of-type {\n",
       "        vertical-align: middle;\n",
       "    }\n",
       "\n",
       "    .dataframe tbody tr th {\n",
       "        vertical-align: top;\n",
       "    }\n",
       "\n",
       "    .dataframe thead th {\n",
       "        text-align: right;\n",
       "    }\n",
       "</style>\n",
       "<table border=\"1\" class=\"dataframe\">\n",
       "  <thead>\n",
       "    <tr style=\"text-align: right;\">\n",
       "      <th></th>\n",
       "      <th>Час</th>\n",
       "      <th>Температура</th>\n",
       "      <th>Швидкість вітру</th>\n",
       "    </tr>\n",
       "  </thead>\n",
       "  <tbody>\n",
       "    <tr>\n",
       "      <th>0</th>\n",
       "      <td>2025-06-22 00:00:00</td>\n",
       "      <td>19.6</td>\n",
       "      <td>1.8</td>\n",
       "    </tr>\n",
       "    <tr>\n",
       "      <th>1</th>\n",
       "      <td>2025-06-22 01:00:00</td>\n",
       "      <td>18.9</td>\n",
       "      <td>2.9</td>\n",
       "    </tr>\n",
       "    <tr>\n",
       "      <th>2</th>\n",
       "      <td>2025-06-22 02:00:00</td>\n",
       "      <td>18.3</td>\n",
       "      <td>5.0</td>\n",
       "    </tr>\n",
       "    <tr>\n",
       "      <th>3</th>\n",
       "      <td>2025-06-22 03:00:00</td>\n",
       "      <td>17.8</td>\n",
       "      <td>5.0</td>\n",
       "    </tr>\n",
       "    <tr>\n",
       "      <th>4</th>\n",
       "      <td>2025-06-22 04:00:00</td>\n",
       "      <td>17.3</td>\n",
       "      <td>4.0</td>\n",
       "    </tr>\n",
       "    <tr>\n",
       "      <th>...</th>\n",
       "      <td>...</td>\n",
       "      <td>...</td>\n",
       "      <td>...</td>\n",
       "    </tr>\n",
       "    <tr>\n",
       "      <th>67</th>\n",
       "      <td>2025-06-24 19:00:00</td>\n",
       "      <td>20.5</td>\n",
       "      <td>16.9</td>\n",
       "    </tr>\n",
       "    <tr>\n",
       "      <th>68</th>\n",
       "      <td>2025-06-24 20:00:00</td>\n",
       "      <td>20.0</td>\n",
       "      <td>11.2</td>\n",
       "    </tr>\n",
       "    <tr>\n",
       "      <th>69</th>\n",
       "      <td>2025-06-24 21:00:00</td>\n",
       "      <td>19.5</td>\n",
       "      <td>8.3</td>\n",
       "    </tr>\n",
       "    <tr>\n",
       "      <th>70</th>\n",
       "      <td>2025-06-24 22:00:00</td>\n",
       "      <td>19.2</td>\n",
       "      <td>8.3</td>\n",
       "    </tr>\n",
       "    <tr>\n",
       "      <th>71</th>\n",
       "      <td>2025-06-24 23:00:00</td>\n",
       "      <td>19.2</td>\n",
       "      <td>6.8</td>\n",
       "    </tr>\n",
       "  </tbody>\n",
       "</table>\n",
       "<p>72 rows × 3 columns</p>\n",
       "</div>"
      ],
      "text/plain": [
       "                   Час  Температура  Швидкість вітру\n",
       "0  2025-06-22 00:00:00         19.6              1.8\n",
       "1  2025-06-22 01:00:00         18.9              2.9\n",
       "2  2025-06-22 02:00:00         18.3              5.0\n",
       "3  2025-06-22 03:00:00         17.8              5.0\n",
       "4  2025-06-22 04:00:00         17.3              4.0\n",
       "..                 ...          ...              ...\n",
       "67 2025-06-24 19:00:00         20.5             16.9\n",
       "68 2025-06-24 20:00:00         20.0             11.2\n",
       "69 2025-06-24 21:00:00         19.5              8.3\n",
       "70 2025-06-24 22:00:00         19.2              8.3\n",
       "71 2025-06-24 23:00:00         19.2              6.8\n",
       "\n",
       "[72 rows x 3 columns]"
      ]
     },
     "execution_count": 6,
     "metadata": {},
     "output_type": "execute_result"
    }
   ],
   "source": [
    "next_3_days "
   ]
  },
  {
   "cell_type": "code",
   "execution_count": 7,
   "id": "755a8d30",
   "metadata": {},
   "outputs": [
    {
     "data": {
      "text/plain": [
       "31.6"
      ]
     },
     "execution_count": 7,
     "metadata": {},
     "output_type": "execute_result"
    }
   ],
   "source": [
    "max(next_3_days[\"Температура\"])"
   ]
  },
  {
   "cell_type": "code",
   "execution_count": 8,
   "id": "6e57b5cc",
   "metadata": {},
   "outputs": [
    {
     "data": {
      "text/plain": [
       "16.9"
      ]
     },
     "execution_count": 8,
     "metadata": {},
     "output_type": "execute_result"
    }
   ],
   "source": [
    "min(next_3_days[\"Температура\"])"
   ]
  },
  {
   "cell_type": "code",
   "execution_count": 9,
   "id": "3769a933",
   "metadata": {},
   "outputs": [
    {
     "data": {
      "text/plain": [
       "22.666666666666668"
      ]
     },
     "execution_count": 9,
     "metadata": {},
     "output_type": "execute_result"
    }
   ],
   "source": [
    "float(next_3_days.Температура.mean())"
   ]
  },
  {
   "cell_type": "code",
   "execution_count": 10,
   "id": "da490bd2",
   "metadata": {},
   "outputs": [
    {
     "data": {
      "text/plain": [
       "33"
      ]
     },
     "execution_count": 10,
     "metadata": {},
     "output_type": "execute_result"
    }
   ],
   "source": [
    "next_3_days[next_3_days[\"Швидкість вітру\"]>next_3_days[\"Швидкість вітру\"].mean()].shape[0]"
   ]
  }
 ],
 "metadata": {
  "kernelspec": {
   "display_name": ".venv",
   "language": "python",
   "name": "python3"
  },
  "language_info": {
   "codemirror_mode": {
    "name": "ipython",
    "version": 3
   },
   "file_extension": ".py",
   "mimetype": "text/x-python",
   "name": "python",
   "nbconvert_exporter": "python",
   "pygments_lexer": "ipython3",
   "version": "3.12.7"
  }
 },
 "nbformat": 4,
 "nbformat_minor": 5
}
