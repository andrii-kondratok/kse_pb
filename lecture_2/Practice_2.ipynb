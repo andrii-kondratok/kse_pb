{
  "cells": [
    {
      "cell_type": "code",
      "execution_count": 3,
      "metadata": {
        "id": "Nu_n1gxdZIdh"
      },
      "outputs": [],
      "source": [
        "intege1 = 1\n",
        "intege2 = 2\n",
        "floate1 = 1.01\n",
        "floate2 = 1.02\n",
        "strin1 = \"Gay\"\n",
        "strin2 = \"Not gay enough\"\n",
        "booly1 = True\n",
        "booly2 = False\n",
        "nin1 = None\n",
        "nin2 = None"
      ]
    },
    {
      "cell_type": "markdown",
      "metadata": {
        "id": "m_bYZ8eralXC"
      },
      "source": [
        "Завдання 1"
      ]
    },
    {
      "cell_type": "code",
      "execution_count": 10,
      "metadata": {
        "colab": {
          "base_uri": "https://localhost:8080/"
        },
        "id": "M7Cax6F6apYJ",
        "outputId": "3461116c-83ff-4d16-8001-447a2951e0aa"
      },
      "outputs": [
        {
          "name": "stdout",
          "output_type": "stream",
          "text": [
            "a= 1\n",
            "b= 2\n",
            "a= 2\n",
            "b= 1\n"
          ]
        }
      ],
      "source": [
        "a = 1\n",
        "b = 2\n",
        "print(\"a=\",a)\n",
        "print(\"b=\",b)\n",
        "a, b = b, a\n",
        "print(\"a=\",a)\n",
        "print(\"b=\",b)"
      ]
    },
    {
      "cell_type": "markdown",
      "metadata": {
        "id": "bLdbpRZha0oZ"
      },
      "source": [
        "Завдання 2"
      ]
    },
    {
      "cell_type": "code",
      "execution_count": 9,
      "metadata": {
        "colab": {
          "base_uri": "https://localhost:8080/"
        },
        "id": "k41y3bN3a2M1",
        "outputId": "1fd18bf2-472e-45f3-86ef-cc7ab71f6c57"
      },
      "outputs": [
        {
          "name": "stdout",
          "output_type": "stream",
          "text": [
            "33\n",
            "144\n",
            "-15.964285714285715\n",
            "(0.6207430386497654-0.784014081485694j)\n",
            "3\n",
            "0\n",
            "Get tf out of here\n",
            "Hell yeah it is, lil bro2\n"
          ]
        }
      ],
      "source": [
        "x = 3\n",
        "y = 9\n",
        "def1 = 2*x + 3*y\n",
        "print(def1)\n",
        "def2 = x**2 + 2*x*y + y**2\n",
        "print(def2)\n",
        "def3 = (2/8)*x - (13/7)*y\n",
        "print(def3)\n",
        "def4 = y**((4*x-2*y)**(1/2))\n",
        "print(def4)\n",
        "def5 = x%y\n",
        "print(def5)\n",
        "def6 = (x//y)**2\n",
        "print(def6)\n",
        "if x>y:\n",
        "  print(\"Hell yeah it is, lil bro\")\n",
        "else:\n",
        "  print(\"Get tf out of here\")\n",
        "\n",
        "if (x**2)==y:\n",
        "  print(\"Hell yeah it is, lil bro2\")\n",
        "else:\n",
        "  print(\"Get tf out of here2\")"
      ]
    },
    {
      "cell_type": "markdown",
      "metadata": {
        "id": "MouUkL_1cCXK"
      },
      "source": [
        "Завдання 3"
      ]
    },
    {
      "cell_type": "code",
      "execution_count": 11,
      "metadata": {
        "colab": {
          "base_uri": "https://localhost:8080/"
        },
        "id": "SvCE2Woaciyr",
        "outputId": "20132025-dc1b-4622-8b7b-6745c86ad34b"
      },
      "outputs": [
        {
          "name": "stdout",
          "output_type": "stream",
          "text": [
            "Атомна бомба дорівнює 120 гривень\n"
          ]
        }
      ],
      "source": [
        "name_of_good = \"Атомна бомба\"\n",
        "price_of_good = 120\n",
        "final_result = f\"{name_of_good} дорівнює {price_of_good} гривень\"\n",
        "print(final_result)"
      ]
    },
    {
      "cell_type": "markdown",
      "metadata": {
        "id": "Os2OAJzcdVLT"
      },
      "source": [
        "Завдання 4"
      ]
    },
    {
      "cell_type": "code",
      "execution_count": 12,
      "metadata": {
        "colab": {
          "base_uri": "https://localhost:8080/"
        },
        "id": "qqwUJnmwdWad",
        "outputId": "5e90b230-b2bf-4418-a607-9fe1dc968aae"
      },
      "outputs": [
        {
          "name": "stdout",
          "output_type": "stream",
          "text": [
            "U so damn stupid\n"
          ]
        }
      ],
      "source": [
        "x1 = 1\n",
        "x2 = 2\n",
        "x3 = 3\n",
        "x4 = 1.488\n",
        "\n",
        "if ((x1>x3) or (x2>x4)) and not ((x2!=x3) or (x1==x4)) == True:\n",
        "  print(\"Trueeeeeeeeeeeeeeeeeeeeeeeee\")\n",
        "else:\n",
        "  print(\"U so damn stupid\")"
      ]
    },
    {
      "cell_type": "markdown",
      "metadata": {
        "id": "2XgEElqIfFus"
      },
      "source": [
        "Завдання 5"
      ]
    },
    {
      "cell_type": "code",
      "execution_count": 15,
      "metadata": {
        "colab": {
          "base_uri": "https://localhost:8080/"
        },
        "id": "J-5zqgXnfHQZ",
        "outputId": "3fb4852d-78ff-4b9d-f292-db257571a0bf"
      },
      "outputs": [
        {
          "name": "stdout",
          "output_type": "stream",
          "text": [
            "Введіть зріст у сантиметрах 186\n",
            "Введіть вагу в кг 66\n",
            "При вазі 66.0 кг і рості 186.0 метрів Ваш ВМІ складає 23.419354838709676\n"
          ]
        }
      ],
      "source": [
        "height = float(input(\"Введіть зріст у сантиметрах \"))\n",
        "weight = float(input(\"Введіть вагу в кг \"))\n",
        "bmi = (weight**2)/height\n",
        "print(f\"При вазі {weight} кг і рості {height} метрів Ваш ВМІ складає {bmi}\")"
      ]
    },
    {
      "cell_type": "markdown",
      "metadata": {
        "id": "vSxTBdx4gvb0"
      },
      "source": [
        "Завдання 6"
      ]
    },
    {
      "cell_type": "code",
      "execution_count": null,
      "metadata": {
        "colab": {
          "base_uri": "https://localhost:8080/"
        },
        "id": "1KujE1Iwhh5M",
        "outputId": "14de3ae9-503b-4e57-daef-fba8b90769b8"
      },
      "outputs": [
        {
          "name": "stdout",
          "output_type": "stream",
          "text": [
            "Друга піца на 46.41% більша за першу\n"
          ]
        }
      ],
      "source": [
        "area_pizza = 3.14*(30**2)\n",
        "area2_pizza = 3.14*(36.3**2)\n",
        "print(f\"Друга піца на {((area2_pizza * 100) / area_pizza)-100:.2f}% більша за першу\")"
      ]
    },
    {
      "cell_type": "markdown",
      "metadata": {
        "id": "3GpttxbSkN_I"
      },
      "source": [
        "Завдання 7, бонусне"
      ]
    }
  ],
  "metadata": {
    "colab": {
      "provenance": []
    },
    "kernelspec": {
      "display_name": "Python 3",
      "name": "python3"
    },
    "language_info": {
      "name": "python"
    }
  },
  "nbformat": 4,
  "nbformat_minor": 0
}
